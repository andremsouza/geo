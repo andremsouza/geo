{
 "cells": [
  {
   "cell_type": "markdown",
   "metadata": {},
   "source": [
    " # Performance tests for full-text search"
   ]
  },
  {
   "cell_type": "code",
   "execution_count": 1,
   "metadata": {},
   "outputs": [],
   "source": [
    "# Imports\n",
    "import psycopg2\n",
    "from random import randint\n",
    "import re\n",
    "import seaborn as sns\n",
    "import matplotlib.pyplot as plt\n",
    "import requests\n",
    "import requests.auth\n",
    "import json\n",
    "\n",
    "try:\n",
    "    import config  # Try to import attributes from config.py\n",
    "except Exception as e:  # If no config.py, define Object with empty attributes\n",
    "    print('Warning: No config.py found. ' +\n",
    "          'Using empty values for non-provided connection attributes. ' +\n",
    "          str(e))\n",
    "\n",
    "    class Object(object):\n",
    "        \"\"\"Dummy class for config attributes.\"\"\"\n",
    "        pass\n",
    "\n",
    "    config = Object()\n",
    "    config.HOSTNAME = ''\n",
    "    config.PORT = -1\n",
    "    config.DBNAME = ''\n",
    "    config.USERNAME = ''\n",
    "    config.PASSWORD = ''\n"
   ]
  },
  {
   "cell_type": "code",
   "execution_count": 2,
   "metadata": {},
   "outputs": [],
   "source": [
    "# Estabilishing connection to database\n",
    "conn = psycopg2.connect(host=config.HOSTNAME,\n",
    "                        port=config.PORT,\n",
    "                        dbname=config.DBNAME,\n",
    "                        user=config.USERNAME,\n",
    "                        password=config.PASSWORD)\n",
    "cur = conn.cursor()\n",
    "cur.close()\n"
   ]
  },
  {
   "cell_type": "code",
   "execution_count": 3,
   "metadata": {},
   "outputs": [],
   "source": [
    "# Preparing for N queries\n",
    "times = []\n",
    "labels = []\n",
    "\n",
    "N = 100\n",
    "\n",
    "# Using an excerpt from an interview in the dataset\n",
    "search_string = 'Aí depois desse pan-americano, desse pan-americano de 91 a gente continuou se dedicando à conjunto de solo'\n"
   ]
  },
  {
   "cell_type": "markdown",
   "metadata": {},
   "source": [
    " ## Testing example of query plan"
   ]
  },
  {
   "cell_type": "code",
   "execution_count": 4,
   "metadata": {},
   "outputs": [
    {
     "name": "stdout",
     "output_type": "stream",
     "text": [
      "('Sort  (cost=212.03..212.03 rows=1 width=479) (actual rows=542 loops=1)',)\n",
      "(\"  Sort Key: (ts_rank_cd(tstext, '''aí'' & ''dess'' & ''pan-american'' & ''pan'' & ''american'' & ''dess'' & ''pan-american'' & ''pan'' & ''american'' & ''91'' & ''gent'' & ''continu'' & ''dedic'' & ''conjunt'' & ''sol'''::tsquery, 37)) DESC\",)\n",
      "('  Sort Method: quicksort  Memory: 1117kB',)\n",
      "('  ->  Bitmap Heap Scan on interviews  (cost=208.00..212.02 rows=1 width=479) (actual rows=542 loops=1)',)\n",
      "(\"        Recheck Cond: (tstext @@ '''aí'' & ''dess'' & ''pan-american'' & ''pan'' & ''american'' & ''dess'' & ''pan-american'' & ''pan'' & ''american'' & ''91'' & ''gent'' & ''continu'' & ''dedic'' & ''conjunt'' & ''sol'''::tsquery)\",)\n",
      "('        Heap Blocks: exact=411',)\n",
      "('        ->  Bitmap Index Scan on interviews_idx_tstext  (cost=0.00..208.00 rows=1 width=0) (actual rows=542 loops=1)',)\n",
      "(\"              Index Cond: (tstext @@ '''aí'' & ''dess'' & ''pan-american'' & ''pan'' & ''american'' & ''dess'' & ''pan-american'' & ''pan'' & ''american'' & ''91'' & ''gent'' & ''continu'' & ''dedic'' & ''conjunt'' & ''sol'''::tsquery)\",)\n",
      "('Planning Time: 2.290 ms',)\n",
      "('Execution Time: 84.439 ms',)\n",
      "Execution time:  84.439\n"
     ]
    }
   ],
   "source": [
    "cur = conn.cursor()\n",
    "cur.execute(\n",
    "    \"\"\"EXPLAIN (ANALYZE TRUE, TIMING FALSE)\n",
    "            SELECT id, text, questions, answers, meta,\n",
    "                            ts_rank_cd(tstext,\n",
    "                                       websearch_to_tsquery('portuguese',\n",
    "                                                            %(search_string)s),\n",
    "                                        1|4|32)\n",
    "                                as rank\n",
    "                        FROM interviews\n",
    "                        WHERE tstext @@\n",
    "                            websearch_to_tsquery('portuguese',\n",
    "                                                 %(search_string)s)\n",
    "                        ORDER BY rank DESC;\n",
    "    \"\"\", {\"search_string\": search_string})\n",
    "result = cur.fetchall()\n",
    "print(*result, sep='\\n')\n",
    "print('Execution time: ', float(re.findall(r\"\\d+\\.\\d+\", result[len(result)-1][0])[0]))\n",
    "cur.close()\n",
    "conn.rollback()\n"
   ]
  },
  {
   "cell_type": "markdown",
   "metadata": {},
   "source": [
    "## Query 1: Using LIKE operator, without full-text search functionalities\n",
    "Note: in this query, ranking by relevance is not available"
   ]
  },
  {
   "cell_type": "code",
   "execution_count": 5,
   "metadata": {},
   "outputs": [
    {
     "name": "stdout",
     "output_type": "stream",
     "text": [
      "('Seq Scan on interviews  (cost=0.00..987.23 rows=1 width=475) (actual rows=542 loops=1)',)\n",
      "(\"  Filter: (text ~~ '%Aí depois desse pan-americano, desse pan-americano de 91 a gente continuou se dedicando à conjunto de solo%'::text)\",)\n",
      "('  Rows Removed by Filter: 9476',)\n",
      "('Planning Time: 0.068 ms',)\n",
      "('Execution Time: 1924.713 ms',)\n",
      "Execution time:  1924.713\n"
     ]
    }
   ],
   "source": [
    "cur = conn.cursor()\n",
    "cur.execute('SET enable_seqscan=true')\n",
    "cur.execute('drop index interviews_idx_tstext;')\n",
    "cur.execute(\n",
    "    \"\"\"EXPLAIN (ANALYZE TRUE, TIMING FALSE)\n",
    "            SELECT id, text, questions, answers, meta\n",
    "                        FROM interviews\n",
    "                        WHERE text LIKE %(search_string)s;\n",
    "    \"\"\", {\"search_string\": '%' + search_string + '%'})\n",
    "result = cur.fetchall()\n",
    "print(*result, sep='\\n')\n",
    "print('Execution time: ', float(re.findall(r\"\\d+\\.\\d+\", result[len(result)-1][0])[0]))\n",
    "cur.close()\n",
    "conn.rollback()\n"
   ]
  },
  {
   "cell_type": "code",
   "execution_count": 6,
   "metadata": {},
   "outputs": [],
   "source": [
    "# Getting execution times\n",
    "cur = conn.cursor()\n",
    "cur.execute('SET enable_seqscan=true')\n",
    "cur.execute('drop index interviews_idx_tstext;')\n",
    "aux = []\n",
    "for i in range(N):\n",
    "    cur.execute(\n",
    "        \"\"\"EXPLAIN (ANALYZE TRUE, TIMING FALSE)\n",
    "            SELECT id, text, questions, answers, meta\n",
    "                        FROM interviews\n",
    "                        WHERE text LIKE %(search_string)s;\n",
    "    \"\"\", {\"search_string\": '%' + search_string + '%'})\n",
    "    result = cur.fetchall()\n",
    "    aux.append(float(re.findall(r\"\\d+\\.\\d+\", result[len(result)-1][0])[0]))\n",
    "cur.close()\n",
    "conn.rollback()\n",
    "times.append(aux)\n",
    "labels.append(\"Operador LIKE\")\n"
   ]
  },
  {
   "cell_type": "markdown",
   "metadata": {},
   "source": [
    "## Query 2: Using @@ operator, without tsvector index"
   ]
  },
  {
   "cell_type": "code",
   "execution_count": 10,
   "metadata": {},
   "outputs": [
    {
     "name": "stdout",
     "output_type": "stream",
     "text": [
      "('Sort  (cost=987.24..987.24 rows=1 width=479) (actual rows=542 loops=1)',)\n",
      "(\"  Sort Key: (ts_rank_cd(tstext, '''aí'' & ''dess'' & ''pan-american'' & ''pan'' & ''american'' & ''dess'' & ''pan-american'' & ''pan'' & ''american'' & ''91'' & ''gent'' & ''continu'' & ''dedic'' & ''conjunt'' & ''sol'''::tsquery, 37)) DESC\",)\n",
      "('  Sort Method: quicksort  Memory: 1117kB',)\n",
      "('  ->  Seq Scan on interviews  (cost=0.00..987.23 rows=1 width=479) (actual rows=542 loops=1)',)\n",
      "(\"        Filter: (tstext @@ '''aí'' & ''dess'' & ''pan-american'' & ''pan'' & ''american'' & ''dess'' & ''pan-american'' & ''pan'' & ''american'' & ''91'' & ''gent'' & ''continu'' & ''dedic'' & ''conjunt'' & ''sol'''::tsquery)\",)\n",
      "('        Rows Removed by Filter: 9476',)\n",
      "('Planning Time: 0.651 ms',)\n",
      "('Execution Time: 540.825 ms',)\n",
      "Execution time:  540.825\n"
     ]
    }
   ],
   "source": [
    "cur = conn.cursor()\n",
    "cur.execute('SET enable_seqscan=true')\n",
    "cur.execute('drop index interviews_idx_tstext;')\n",
    "cur.execute(\n",
    "    \"\"\"EXPLAIN (ANALYZE TRUE, TIMING FALSE)\n",
    "            SELECT id, text, questions, answers, meta,\n",
    "                            ts_rank_cd(tstext,\n",
    "                                       websearch_to_tsquery('portuguese',\n",
    "                                                            %(search_string)s),\n",
    "                                        1|4|32)\n",
    "                                as rank\n",
    "                        FROM interviews\n",
    "                        WHERE tstext @@\n",
    "                            websearch_to_tsquery('portuguese',\n",
    "                                                 %(search_string)s)\n",
    "                        ORDER BY rank DESC;\n",
    "    \"\"\", {\"search_string\": search_string})\n",
    "result = cur.fetchall()\n",
    "print(*result, sep='\\n')\n",
    "print('Execution time: ', float(re.findall(r\"\\d+\\.\\d+\", result[len(result)-1][0])[0]))\n",
    "cur.close()\n",
    "conn.rollback()\n"
   ]
  },
  {
   "cell_type": "code",
   "execution_count": 11,
   "metadata": {},
   "outputs": [],
   "source": [
    "# Getting execution times\n",
    "cur = conn.cursor()\n",
    "cur.execute('SET enable_seqscan=true')\n",
    "cur.execute('drop index interviews_idx_tstext;')\n",
    "aux = []\n",
    "for i in range(N):\n",
    "    cur.execute(\n",
    "        \"\"\"EXPLAIN (ANALYZE TRUE, TIMING FALSE)\n",
    "            SELECT id, text, questions, answers, meta,\n",
    "                            ts_rank_cd(tstext,\n",
    "                                       websearch_to_tsquery('portuguese',\n",
    "                                                            %(search_string)s),\n",
    "                                        1|4|32)\n",
    "                                as rank\n",
    "                        FROM interviews\n",
    "                        WHERE tstext @@\n",
    "                            websearch_to_tsquery('portuguese',\n",
    "                                                 %(search_string)s)\n",
    "                        ORDER BY rank DESC;\n",
    "    \"\"\", {\"search_string\": search_string})\n",
    "    result = cur.fetchall()\n",
    "    aux.append(float(re.findall(r\"\\d+\\.\\d+\", result[len(result)-1][0])[0]))\n",
    "cur.close()\n",
    "conn.rollback()\n",
    "times.append(aux)\n",
    "labels.append(\"Operador @@\")"
   ]
  },
  {
   "cell_type": "markdown",
   "metadata": {},
   "source": [
    "## Query 3: Using @@ operator, forcing usage of tsvector index"
   ]
  },
  {
   "cell_type": "code",
   "execution_count": 13,
   "metadata": {},
   "outputs": [
    {
     "name": "stdout",
     "output_type": "stream",
     "text": [
      "('Sort  (cost=212.03..212.03 rows=1 width=479) (actual rows=542 loops=1)',)\n",
      "(\"  Sort Key: (ts_rank_cd(tstext, '''aí'' & ''dess'' & ''pan-american'' & ''pan'' & ''american'' & ''dess'' & ''pan-american'' & ''pan'' & ''american'' & ''91'' & ''gent'' & ''continu'' & ''dedic'' & ''conjunt'' & ''sol'''::tsquery, 37)) DESC\",)\n",
      "('  Sort Method: quicksort  Memory: 1117kB',)\n",
      "('  ->  Bitmap Heap Scan on interviews  (cost=208.00..212.02 rows=1 width=479) (actual rows=542 loops=1)',)\n",
      "(\"        Recheck Cond: (tstext @@ '''aí'' & ''dess'' & ''pan-american'' & ''pan'' & ''american'' & ''dess'' & ''pan-american'' & ''pan'' & ''american'' & ''91'' & ''gent'' & ''continu'' & ''dedic'' & ''conjunt'' & ''sol'''::tsquery)\",)\n",
      "('        Heap Blocks: exact=411',)\n",
      "('        ->  Bitmap Index Scan on interviews_idx_tstext  (cost=0.00..208.00 rows=1 width=0) (actual rows=542 loops=1)',)\n",
      "(\"              Index Cond: (tstext @@ '''aí'' & ''dess'' & ''pan-american'' & ''pan'' & ''american'' & ''dess'' & ''pan-american'' & ''pan'' & ''american'' & ''91'' & ''gent'' & ''continu'' & ''dedic'' & ''conjunt'' & ''sol'''::tsquery)\",)\n",
      "('Planning Time: 0.264 ms',)\n",
      "('Execution Time: 81.141 ms',)\n",
      "Execution time:  81.141\n"
     ]
    }
   ],
   "source": [
    "cur = conn.cursor()\n",
    "cur.execute('SET enable_seqscan=false')\n",
    "cur.execute('alter table interviews drop constraint interviews_pkey cascade;')\n",
    "cur.execute(\n",
    "    \"\"\"EXPLAIN (ANALYZE TRUE, TIMING FALSE)\n",
    "            SELECT id, text, questions, answers, meta,\n",
    "                            ts_rank_cd(tstext,\n",
    "                                       websearch_to_tsquery('portuguese',\n",
    "                                                            %(search_string)s),\n",
    "                                        1|4|32)\n",
    "                                as rank\n",
    "                        FROM interviews\n",
    "                        WHERE tstext @@\n",
    "                            websearch_to_tsquery('portuguese',\n",
    "                                                 %(search_string)s)\n",
    "                        ORDER BY rank DESC;\n",
    "    \"\"\", {\"search_string\": search_string})\n",
    "result = cur.fetchall()\n",
    "print(*result, sep='\\n')\n",
    "print('Execution time: ', float(re.findall(r\"\\d+\\.\\d+\", result[len(result)-1][0])[0]))\n",
    "cur.close()\n",
    "conn.rollback()\n"
   ]
  },
  {
   "cell_type": "code",
   "execution_count": 14,
   "metadata": {},
   "outputs": [],
   "source": [
    "# Getting execution times\n",
    "cur = conn.cursor()\n",
    "cur.execute('SET enable_seqscan=false')\n",
    "cur.execute('alter table interviews drop constraint interviews_pkey cascade;')\n",
    "aux = []\n",
    "for i in range(N):\n",
    "    cur.execute(\n",
    "        \"\"\"EXPLAIN (ANALYZE TRUE, TIMING FALSE)\n",
    "            SELECT id, text, questions, answers, meta,\n",
    "                            ts_rank_cd(tstext,\n",
    "                                       websearch_to_tsquery('portuguese',\n",
    "                                                            %(search_string)s),\n",
    "                                        1|4|32)\n",
    "                                as rank\n",
    "                        FROM interviews\n",
    "                        WHERE tstext @@\n",
    "                            websearch_to_tsquery('portuguese',\n",
    "                                                 %(search_string)s)\n",
    "                        ORDER BY rank DESC;\n",
    "    \"\"\", {\"search_string\": search_string})\n",
    "    result = cur.fetchall()\n",
    "    aux.append(float(re.findall(r\"\\d+\\.\\d+\", result[len(result)-1][0])[0]))\n",
    "cur.close()\n",
    "conn.rollback()\n",
    "times.append(aux)\n",
    "labels.append(\"Operador @@, com índice\")\n"
   ]
  },
  {
   "cell_type": "markdown",
   "metadata": {},
   "source": [
    "## Query 4: Using @@ operator, with access through the API"
   ]
  },
  {
   "cell_type": "code",
   "execution_count": 16,
   "metadata": {},
   "outputs": [
    {
     "name": "stdout",
     "output_type": "stream",
     "text": [
      "Status code:  409\n",
      "JSON response:  {'message': 'Unique Violation. This user already exists.'}\n",
      "Status code:  200\n",
      "Elapsed time:  2999.3959999999997\n"
     ]
    }
   ],
   "source": [
    "# creating API user\n",
    "headers = {'Content-type': 'application/json'}\n",
    "req = requests.post('http://localhost:5000/users',\n",
    "                    auth=requests.auth.HTTPBasicAuth('api_admin', 'api_admin'),\n",
    "                    data=json.dumps({\n",
    "                        'new_username': 'test',\n",
    "                        'new_password': 'test'\n",
    "                    }),\n",
    "                    headers=headers)\n",
    "print('Status code: ', req.status_code)\n",
    "print('JSON response: ', req.json())\n",
    "\n",
    "# %%\n",
    "# getting data from API\n",
    "req = requests.get('http://localhost:5000/interviews/' + search_string,\n",
    "                   auth=requests.auth.HTTPBasicAuth('test', 'test'))\n",
    "print('Status code: ', req.status_code)\n",
    "print('Elapsed time: ', req.elapsed.total_seconds() * 1000)\n"
   ]
  },
  {
   "cell_type": "code",
   "execution_count": 17,
   "metadata": {},
   "outputs": [],
   "source": [
    "aux = []\n",
    "for i in range(N):\n",
    "    req = requests.get('http://localhost:5000/interviews/' + search_string,\n",
    "                       auth=requests.auth.HTTPBasicAuth('test', 'test'))\n",
    "    aux.append(req.elapsed.total_seconds() * 1000)\n",
    "times.append(aux)\n",
    "labels.append(\"API\")\n"
   ]
  },
  {
   "cell_type": "markdown",
   "metadata": {},
   "source": [
    "## Graph comparison"
   ]
  },
  {
   "cell_type": "code",
   "execution_count": 20,
   "metadata": {},
   "outputs": [
    {
     "name": "stdout",
     "output_type": "stream",
     "text": [
      "Average access times (ms): \n",
      "LIKE operator\t\t1889.19424\n",
      "@@ operator\t\t209.16244\n",
      "@@ operator with index\t\t67.41490\n",
      "@@ operator, with index, API\t\t2887.27622\n"
     ]
    }
   ],
   "source": [
    "print('Average access times (ms): ')\n",
    "for i in range(len(times)):\n",
    "    print(labels[i], '%.5f' % (sum(times[i]) / N), sep='\\t\\t')"
   ]
  },
  {
   "cell_type": "code",
   "execution_count": 48,
   "metadata": {},
   "outputs": [
    {
     "data": {
      "image/png": "[encoded data removed]",
      "text/plain": [
       "<Figure size 1018.22x720 with 1 Axes>"
      ]
     },
     "metadata": {},
     "output_type": "display_data"
    }
   ],
   "source": [
    "sns.set()\n",
    "plt.figure(figsize=(10*1.4142, 10))\n",
    "g = sns.boxplot(x=times, y=labels)\n",
    "g.set(xscale=\"log\")\n",
    "plt.title(\"Comparação de desempenho para consultas sobre entrevistas\")\n",
    "plt.ylabel(\"Consulta\")\n",
    "plt.xlabel(\"Tempo de execução (ms)\")\n",
    "plt.plot()\n"
   ]
  },
  {
   "cell_type": "code",
   "execution_count": 125,
   "metadata": {},
   "outputs": [
    {
     "data": {
      "text/plain": [
       "[]"
      ]
     },
     "execution_count": 125,
     "metadata": {},
     "output_type": "execute_result"
    },
    {
     "data": {
      "image/png": "[encoded data removed]",
      "text/plain": [
       "<Figure size 1018.22x720 with 1 Axes>"
      ]
     },
     "metadata": {},
     "output_type": "display_data"
    }
   ],
   "source": [
    "import numpy as np\n",
    "import pandas as pd\n",
    "\n",
    "arr = np.array(times).T\n",
    "df = pd.DataFrame(arr, columns=labels)\n",
    "\n",
    "sns.set()\n",
    "plt.figure(figsize=(10*1.4142, 10))\n",
    "#g = sns.barplot(data = times, units='ms')\n",
    "g = sns.barplot(data=df, units='ms', capsize=0, saturation=0.5)\n",
    "# g.set(yscale=\"log\")\n",
    "for idx, i in enumerate(df.mean()):\n",
    "    g.text(idx, i+50, round(i, 1), color='black', ha=\"center\")\n",
    "plt.title(\"Comparação de desempenho para consultas sobre entrevistas (N=100)\")\n",
    "plt.xlabel(\"Consulta\")\n",
    "plt.ylabel(\"Tempo médio de execução (ms)\")\n",
    "plt.savefig('./perf.png')\n",
    "plt.plot()"
   ]
  },
  {
   "cell_type": "code",
   "execution_count": null,
   "metadata": {},
   "outputs": [],
   "source": []
  }
 ],
 "metadata": {
  "kernelspec": {
   "display_name": "Python 3.8.2 64-bit ('icgeo': conda)",
   "language": "python",
   "name": "python38264biticgeoconda709ebc46a9dc48448a5a842c13c04c49"
  },
  "language_info": {
   "codemirror_mode": {
    "name": "ipython",
    "version": 3
   },
   "file_extension": ".py",
   "mimetype": "text/x-python",
   "name": "python",
   "nbconvert_exporter": "python",
   "pygments_lexer": "ipython3",
   "version": "3.7.6"
  }
 },
 "nbformat": 4,
 "nbformat_minor": 4
}
