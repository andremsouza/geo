{
 "cells": [
  {
   "cell_type": "markdown",
   "metadata": {},
   "source": [
    " # Performance tests for full-text search"
   ]
  },
  {
   "cell_type": "code",
   "execution_count": 1,
   "metadata": {},
   "outputs": [
    {
     "name": "stderr",
     "output_type": "stream",
     "text": [
      "[nltk_data] Downloading package punkt to /home/andre/nltk_data...\n",
      "[nltk_data]   Package punkt is already up-to-date!\n"
     ]
    },
    {
     "data": {
      "text/plain": [
       "True"
      ]
     },
     "execution_count": 1,
     "metadata": {},
     "output_type": "execute_result"
    }
   ],
   "source": [
    "# Imports\n",
    "import nltk\n",
    "import nltk.tokenize\n",
    "import psycopg2\n",
    "from random import randint\n",
    "import re\n",
    "import seaborn as sns\n",
    "import matplotlib.pyplot as plt\n",
    "import requests\n",
    "import requests.auth\n",
    "import json\n",
    "\n",
    "try:\n",
    "    import config  # Try to import attributes from config.py\n",
    "except Exception as e:  # If no config.py, define Object with empty attributes\n",
    "    print('Warning: No config.py found. ' +\n",
    "          'Using empty values for non-provided connection attributes. ' +\n",
    "          str(e))\n",
    "\n",
    "    class Object(object):\n",
    "        \"\"\"Dummy class for config attributes.\"\"\"\n",
    "        pass\n",
    "\n",
    "    config = Object()\n",
    "    config.HOSTNAME = ''\n",
    "    config.PORT = -1\n",
    "    config.DBNAME = ''\n",
    "    config.USERNAME = ''\n",
    "    config.PASSWORD = ''\n",
    "\n",
    "nltk.download('punkt')\n"
   ]
  },
  {
   "cell_type": "code",
   "execution_count": 2,
   "metadata": {},
   "outputs": [],
   "source": [
    "# Estabilishing connection to database\n",
    "conn = psycopg2.connect(host=config.HOSTNAME,\n",
    "                        port=config.PORT,\n",
    "                        dbname=config.DBNAME,\n",
    "                        user=config.USERNAME,\n",
    "                        password=config.PASSWORD)\n",
    "cur = conn.cursor()\n",
    "cur.close()\n"
   ]
  },
  {
   "cell_type": "code",
   "execution_count": 3,
   "metadata": {},
   "outputs": [],
   "source": [
    "# Preparing for N queries\n",
    "times = []\n",
    "labels = []\n",
    "\n",
    "N = 100\n",
    "\n",
    "# Using a random sentence from the dataset\n",
    "cur = conn.cursor()\n",
    "cur.execute(\"\"\"SELECT array_to_string(answers, chr(10)) as answers FROM interviews LIMIT 18;\"\"\")\n",
    "result = '\\n'.join([i[0] for i in cur.fetchall()])\n",
    "cur.close()\n",
    "conn.rollback()\n",
    "\n",
    "sents = nltk.tokenize.sent_tokenize(result.replace('\\n', '; '), language='portuguese')\n",
    "\n",
    "# filtering too long/specific sentences (arbitrary threshold to possibly recover more than just one interview)\n",
    "sents = [i.replace('; ', '') for i in sents]\n"
   ]
  },
  {
   "cell_type": "code",
   "execution_count": 4,
   "metadata": {},
   "outputs": [
    {
     "name": "stdout",
     "output_type": "stream",
     "text": [
      "2692\n"
     ]
    }
   ],
   "source": [
    "# Number of sentences\n",
    "print(len(sents))"
   ]
  },
  {
   "cell_type": "code",
   "execution_count": 5,
   "metadata": {},
   "outputs": [
    {
     "name": "stdout",
     "output_type": "stream",
     "text": [
      "42.928306092124814\n"
     ]
    }
   ],
   "source": [
    "# Average number of words per sentence\n",
    "print(sum([len(i.split()) for i in sents]) / len(sents))"
   ]
  },
  {
   "cell_type": "code",
   "execution_count": 6,
   "metadata": {},
   "outputs": [
    {
     "name": "stdout",
     "output_type": "stream",
     "text": [
      "Assim, não tem nem o que falar – ganhar o Pan já foi o máximo, porque foi muito gostoso.\n"
     ]
    }
   ],
   "source": [
    "# Print random sentence\n",
    "print(sents[randint(0, len(sents)-1)])"
   ]
  },
  {
   "cell_type": "markdown",
   "metadata": {},
   "source": [
    " ## Testing example of query plan"
   ]
  },
  {
   "cell_type": "code",
   "execution_count": 7,
   "metadata": {},
   "outputs": [
    {
     "name": "stdout",
     "output_type": "stream",
     "text": [
      "('Sort  (cost=3837.48..3862.53 rows=10018 width=480) (actual rows=10018 loops=1)',)\n",
      "(\"  Sort Key: (ts_rank_cd(tstext, '''ah'' & ''gent'' & ''comec'' & ''particip'' & ''primeir'' & ''campeonat'''::tsquery, 37)) DESC\",)\n",
      "('  Sort Method: external merge  Disk: 4824kB',)\n",
      "('  ->  Seq Scan on interviews  (cost=0.00..1012.27 rows=10018 width=480) (actual rows=10018 loops=1)',)\n",
      "(\"        Filter: (tstext @@ '''ah'' & ''gent'' & ''comec'' & ''particip'' & ''primeir'' & ''campeonat'''::tsquery)\",)\n",
      "('Planning Time: 3.385 ms',)\n",
      "('Execution Time: 751.690 ms',)\n",
      "Execution time:  751.69\n"
     ]
    }
   ],
   "source": [
    "cur = conn.cursor()\n",
    "cur.execute(\n",
    "    \"\"\"EXPLAIN (ANALYZE TRUE, TIMING FALSE)\n",
    "            SELECT id, text, questions, answers, meta,\n",
    "                            ts_rank_cd(tstext,\n",
    "                                       websearch_to_tsquery('portuguese',\n",
    "                                                            %(search_string)s),\n",
    "                                        1|4|32)\n",
    "                                as rank\n",
    "                        FROM interviews\n",
    "                        WHERE tstext @@\n",
    "                            websearch_to_tsquery('portuguese',\n",
    "                                                 %(search_string)s)\n",
    "                        ORDER BY rank DESC;\n",
    "    \"\"\", {\"search_string\": sents[randint(0, len(sents)-1)]})\n",
    "result = cur.fetchall()\n",
    "print(*result, sep='\\n')\n",
    "print('Execution time: ', float(re.findall(r\"\\d+\\.\\d+\", result[len(result)-1][0])[0]))\n",
    "cur.close()\n",
    "conn.rollback()\n"
   ]
  },
  {
   "cell_type": "markdown",
   "metadata": {},
   "source": [
    "## Query 1: Using LIKE operator, without full-text search functionalities\n",
    "Note: in this query, ranking by relevance is not available"
   ]
  },
  {
   "cell_type": "code",
   "execution_count": 8,
   "metadata": {},
   "outputs": [
    {
     "name": "stdout",
     "output_type": "stream",
     "text": [
      "('Seq Scan on interviews  (cost=0.00..987.23 rows=1 width=476) (actual rows=518 loops=1)',)\n",
      "(\"  Filter: (text ~~ '%Mas nossa dá muita saudade é às vezes a gente quer voltar no tempo para voltar tudo aquilo de novo.%'::text)\",)\n",
      "('  Rows Removed by Filter: 9500',)\n",
      "('Planning Time: 0.101 ms',)\n",
      "('Execution Time: 1948.749 ms',)\n",
      "Execution time:  1948.749\n"
     ]
    }
   ],
   "source": [
    "cur = conn.cursor()\n",
    "cur.execute('SET enable_seqscan=true')\n",
    "cur.execute('drop index interviews_idx_tstext;')\n",
    "cur.execute(\n",
    "    \"\"\"EXPLAIN (ANALYZE TRUE, TIMING FALSE)\n",
    "            SELECT id, text, questions, answers, meta\n",
    "                        FROM interviews\n",
    "                        WHERE text LIKE %(search_string)s;\n",
    "    \"\"\", {\"search_string\": '%' + sents[randint(0, len(sents)-1)] + '%'})\n",
    "result = cur.fetchall()\n",
    "print(*result, sep='\\n')\n",
    "print('Execution time: ', float(re.findall(r\"\\d+\\.\\d+\", result[len(result)-1][0])[0]))\n",
    "cur.close()\n",
    "conn.rollback()\n"
   ]
  },
  {
   "cell_type": "code",
   "execution_count": 9,
   "metadata": {},
   "outputs": [],
   "source": [
    "# Getting execution times\n",
    "cur = conn.cursor()\n",
    "cur.execute('SET enable_seqscan=true')\n",
    "cur.execute('drop index interviews_idx_tstext;')\n",
    "aux = []\n",
    "for i in range(N):\n",
    "    cur.execute(\n",
    "        \"\"\"EXPLAIN (ANALYZE TRUE, TIMING FALSE)\n",
    "            SELECT id, text, questions, answers, meta\n",
    "                        FROM interviews\n",
    "                        WHERE text LIKE %(search_string)s;\n",
    "    \"\"\", {\"search_string\": '%' + sents[randint(0, len(sents)-1)] + '%'})\n",
    "    result = cur.fetchall()\n",
    "    aux.append(float(re.findall(r\"\\d+\\.\\d+\", result[len(result)-1][0])[0]))\n",
    "cur.close()\n",
    "conn.rollback()\n",
    "times.append(aux)\n",
    "labels.append(\"Operador LIKE\")\n"
   ]
  },
  {
   "cell_type": "markdown",
   "metadata": {},
   "source": [
    "## Query 2: Using @@ operator, without tsvector index"
   ]
  },
  {
   "cell_type": "code",
   "execution_count": 10,
   "metadata": {},
   "outputs": [
    {
     "name": "stdout",
     "output_type": "stream",
     "text": [
      "('Sort  (cost=1171.50..1179.13 rows=3052 width=480) (actual rows=1073 loops=1)',)\n",
      "(\"  Sort Key: (ts_rank_cd(tstext, '''aí'' & ''volt'' & ''trein'' & ''tal'' & ''né'''::tsquery, 37)) DESC\",)\n",
      "('  Sort Method: quicksort  Memory: 1178kB',)\n",
      "('  ->  Seq Scan on interviews  (cost=0.00..994.86 rows=3052 width=480) (actual rows=1073 loops=1)',)\n",
      "(\"        Filter: (tstext @@ '''aí'' & ''volt'' & ''trein'' & ''tal'' & ''né'''::tsquery)\",)\n",
      "('        Rows Removed by Filter: 8945',)\n",
      "('Planning Time: 0.169 ms',)\n",
      "('Execution Time: 288.978 ms',)\n",
      "Execution time:  288.978\n"
     ]
    }
   ],
   "source": [
    "cur = conn.cursor()\n",
    "cur.execute('SET enable_seqscan=true')\n",
    "cur.execute('drop index interviews_idx_tstext;')\n",
    "cur.execute(\n",
    "    \"\"\"EXPLAIN (ANALYZE TRUE, TIMING FALSE)\n",
    "            SELECT id, text, questions, answers, meta,\n",
    "                            ts_rank_cd(tstext,\n",
    "                                       websearch_to_tsquery('portuguese',\n",
    "                                                            %(search_string)s),\n",
    "                                        1|4|32)\n",
    "                                as rank\n",
    "                        FROM interviews\n",
    "                        WHERE tstext @@\n",
    "                            websearch_to_tsquery('portuguese',\n",
    "                                                 %(search_string)s)\n",
    "                        ORDER BY rank DESC;\n",
    "    \"\"\", {\"search_string\": sents[randint(0, len(sents)-1)]})\n",
    "result = cur.fetchall()\n",
    "print(*result, sep='\\n')\n",
    "print('Execution time: ', float(re.findall(r\"\\d+\\.\\d+\", result[len(result)-1][0])[0]))\n",
    "cur.close()\n",
    "conn.rollback()\n"
   ]
  },
  {
   "cell_type": "code",
   "execution_count": 11,
   "metadata": {},
   "outputs": [],
   "source": [
    "# Getting execution times\n",
    "cur = conn.cursor()\n",
    "cur.execute('SET enable_seqscan=true')\n",
    "cur.execute('drop index interviews_idx_tstext;')\n",
    "aux = []\n",
    "for i in range(N):\n",
    "    cur.execute(\n",
    "        \"\"\"EXPLAIN (ANALYZE TRUE, TIMING FALSE)\n",
    "            SELECT id, text, questions, answers, meta,\n",
    "                            ts_rank_cd(tstext,\n",
    "                                       websearch_to_tsquery('portuguese',\n",
    "                                                            %(search_string)s),\n",
    "                                        1|4|32)\n",
    "                                as rank\n",
    "                        FROM interviews\n",
    "                        WHERE tstext @@\n",
    "                            websearch_to_tsquery('portuguese',\n",
    "                                                 %(search_string)s)\n",
    "                        ORDER BY rank DESC;\n",
    "    \"\"\", {\"search_string\": sents[randint(0, len(sents)-1)]})\n",
    "    result = cur.fetchall()\n",
    "    aux.append(float(re.findall(r\"\\d+\\.\\d+\", result[len(result)-1][0])[0]))\n",
    "cur.close()\n",
    "conn.rollback()\n",
    "times.append(aux)\n",
    "labels.append(\"Operador @@\")"
   ]
  },
  {
   "cell_type": "markdown",
   "metadata": {},
   "source": [
    "## Query 3: Using @@ operator, forcing usage of tsvector index"
   ]
  },
  {
   "cell_type": "code",
   "execution_count": 12,
   "metadata": {},
   "outputs": [
    {
     "name": "stdout",
     "output_type": "stream",
     "text": [
      "('Sort  (cost=1093.73..1098.03 rows=1722 width=480) (actual rows=2255 loops=1)',)\n",
      "(\"  Sort Key: (ts_rank_cd(tstext, '''aí'' & ''volt'' & ''aí'' & ''fiqu'' & ''faz'' & ''fortalec'' & ''tal'''::tsquery, 37)) DESC\",)\n",
      "('  Sort Method: quicksort  Memory: 1392kB',)\n",
      "('  ->  Bitmap Heap Scan on interviews  (cost=113.34..1001.17 rows=1722 width=480) (actual rows=2255 loops=1)',)\n",
      "(\"        Recheck Cond: (tstext @@ '''aí'' & ''volt'' & ''aí'' & ''fiqu'' & ''faz'' & ''fortalec'' & ''tal'''::tsquery)\",)\n",
      "('        Heap Blocks: exact=785',)\n",
      "('        ->  Bitmap Index Scan on interviews_idx_tstext  (cost=0.00..112.91 rows=1722 width=0) (actual rows=2255 loops=1)',)\n",
      "(\"              Index Cond: (tstext @@ '''aí'' & ''volt'' & ''aí'' & ''fiqu'' & ''faz'' & ''fortalec'' & ''tal'''::tsquery)\",)\n",
      "('Planning Time: 0.671 ms',)\n",
      "('Execution Time: 174.673 ms',)\n",
      "Execution time:  174.673\n"
     ]
    }
   ],
   "source": [
    "cur = conn.cursor()\n",
    "cur.execute('SET enable_seqscan=false')\n",
    "cur.execute('alter table interviews drop constraint interviews_pkey cascade;')\n",
    "cur.execute(\n",
    "    \"\"\"EXPLAIN (ANALYZE TRUE, TIMING FALSE)\n",
    "            SELECT id, text, questions, answers, meta,\n",
    "                            ts_rank_cd(tstext,\n",
    "                                       websearch_to_tsquery('portuguese',\n",
    "                                                            %(search_string)s),\n",
    "                                        1|4|32)\n",
    "                                as rank\n",
    "                        FROM interviews\n",
    "                        WHERE tstext @@\n",
    "                            websearch_to_tsquery('portuguese',\n",
    "                                                 %(search_string)s)\n",
    "                        ORDER BY rank DESC;\n",
    "    \"\"\", {\"search_string\": sents[randint(0, len(sents)-1)]})\n",
    "result = cur.fetchall()\n",
    "print(*result, sep='\\n')\n",
    "print('Execution time: ', float(re.findall(r\"\\d+\\.\\d+\", result[len(result)-1][0])[0]))\n",
    "cur.close()\n",
    "conn.rollback()\n"
   ]
  },
  {
   "cell_type": "code",
   "execution_count": 13,
   "metadata": {},
   "outputs": [],
   "source": [
    "# Getting execution times\n",
    "cur = conn.cursor()\n",
    "cur.execute('SET enable_seqscan=false')\n",
    "cur.execute('alter table interviews drop constraint interviews_pkey cascade;')\n",
    "aux = []\n",
    "for i in range(N):\n",
    "    cur.execute(\n",
    "        \"\"\"EXPLAIN (ANALYZE TRUE, TIMING FALSE)\n",
    "            SELECT id, text, questions, answers, meta,\n",
    "                            ts_rank_cd(tstext,\n",
    "                                       websearch_to_tsquery('portuguese',\n",
    "                                                            %(search_string)s),\n",
    "                                        1|4|32)\n",
    "                                as rank\n",
    "                        FROM interviews\n",
    "                        WHERE tstext @@\n",
    "                            websearch_to_tsquery('portuguese',\n",
    "                                                 %(search_string)s)\n",
    "                        ORDER BY rank DESC;\n",
    "    \"\"\", {\"search_string\": sents[randint(0, len(sents)-1)]})\n",
    "    result = cur.fetchall()\n",
    "    aux.append(float(re.findall(r\"\\d+\\.\\d+\", result[len(result)-1][0])[0]))\n",
    "cur.close()\n",
    "conn.rollback()\n",
    "times.append(aux)\n",
    "labels.append(\"Operador @@, com índice\")\n"
   ]
  },
  {
   "cell_type": "markdown",
   "metadata": {},
   "source": [
    "## Query 4: Using @@ operator, with access through the API"
   ]
  },
  {
   "cell_type": "code",
   "execution_count": 14,
   "metadata": {},
   "outputs": [
    {
     "name": "stdout",
     "output_type": "stream",
     "text": [
      "Status code:  201\n",
      "JSON response:  {'message': 'API user created successfully.', 'username': 'test'}\n"
     ]
    }
   ],
   "source": [
    "# creating API user\n",
    "headers = {'Content-type': 'application/json'}\n",
    "req = requests.post('http://localhost:5000/users',\n",
    "                    auth=requests.auth.HTTPBasicAuth('api_admin', 'api_admin'),\n",
    "                    data=json.dumps({\n",
    "                        'new_username': 'test',\n",
    "                        'new_password': 'test'\n",
    "                    }),\n",
    "                    headers=headers)\n",
    "print('Status code: ', req.status_code)\n",
    "print('JSON response: ', req.json())\n"
   ]
  },
  {
   "cell_type": "code",
   "execution_count": 38,
   "metadata": {},
   "outputs": [
    {
     "name": "stdout",
     "output_type": "stream",
     "text": [
      "Status code:  200\n",
      "Elapsed time:  1065.95\n",
      "Times:  [0.0, 22.208690643310547, 22.237539291381836, 135.72853929138182, 952.2855865325928, 952.7993785705567, 954.2120086517334]\n"
     ]
    }
   ],
   "source": [
    "# %%\n",
    "# getting data from API\n",
    "import time\n",
    "time_begin = time.time()\n",
    "req = requests.get('http://localhost:5000/interviews/' + sents[randint(0, len(sents)-1)],\n",
    "                   auth=requests.auth.HTTPBasicAuth('test', 'test'))\n",
    "time_end = time.time()\n",
    "times_request = [time_begin, req.json()['time_request'], req.json()['time_prequery'], req.json()['time_execution'], req.json()['time_postquery'], req.json()['time_postmeta'], time_end]\n",
    "\n",
    "t0 = 0 + times_request[0]\n",
    "times_request[:3] = [(i - t0) * 1000 for i in times_request[:3]]\n",
    "tq = 0 + times_request[3]\n",
    "times_request[3] += times_request[2]\n",
    "times_request[4:] = [((i - t0) * 1000) - tq for i in times_request[4:]]\n",
    "print('Status code: ', req.status_code)\n",
    "print('Elapsed time: ', req.elapsed.total_seconds() * 1000)\n",
    "print('Times: ', times_request)\n"
   ]
  },
  {
   "cell_type": "code",
   "execution_count": null,
   "metadata": {},
   "outputs": [],
   "source": [
    "aux = []\n",
    "for i in range(N):\n",
    "    time_begin = time.time()\n",
    "    req = requests.get('http://localhost:5000/interviews/' + sents[randint(0, len(sents)-1)],\n",
    "                       auth=requests.auth.HTTPBasicAuth('test', 'test'))\n",
    "    time_end =time.time()\n",
    "    times_request = [req.json()['time_request'], req.json()['time_prequery'], req.json()['time_execution'], req.json()['time_postquery'], req.json()['time_postmeta'], time_end]\n",
    "\n",
    "    t0 = 0 + time_begin\n",
    "    times_request[:3] = [(i - t0) * 1000 for i in times_request[:3]]\n",
    "    tq = 0 + times_request[3]\n",
    "    times_request[3] += times_request[2]\n",
    "    times_request[4:] = [((i - t0) * 1000) - tq for i in times_request[4:]]\n",
    "    aux.append(times_request)\n",
    "times.append(aux)\n",
    "labels.append(\"API\")\n",
    "api_labels = ['Início', 'Pré-query', 'Execução', 'Transmissão', 'Pós-metadata', 'Resposta']"
   ]
  },
  {
   "cell_type": "markdown",
   "metadata": {},
   "source": [
    "## Graph comparison"
   ]
  },
  {
   "cell_type": "code",
   "execution_count": 41,
   "metadata": {},
   "outputs": [
    {
     "name": "stdout",
     "output_type": "stream",
     "text": [
      "Average access times (ms): \n",
      "Operador LIKE\t\t1950.00210\n",
      "Operador @@\t\t496.94570\n",
      "Operador @@, com índice\t\t251.78412\n"
     ]
    }
   ],
   "source": [
    "print('Average access times (ms): ')\n",
    "for i in range(len(times)-1):\n",
    "    print(labels[i], '%.5f' % (sum(times[i]) / N), sep='\\t\\t')"
   ]
  },
  {
   "cell_type": "code",
   "execution_count": 103,
   "metadata": {},
   "outputs": [
    {
     "data": {
      "text/plain": [
       "[]"
      ]
     },
     "execution_count": 103,
     "metadata": {},
     "output_type": "execute_result"
    },
    {
     "data": {
      "image/png": "[encoded data removed]",
      "text/plain": [
       "<Figure size 720x360 with 1 Axes>"
      ]
     },
     "metadata": {},
     "output_type": "display_data"
    }
   ],
   "source": [
    "import numpy as np\n",
    "import pandas as pd\n",
    "\n",
    "arr = np.array(times[:3]).T\n",
    "df = pd.DataFrame(arr, columns=labels[:3])\n",
    "\n",
    "sns.set()\n",
    "plt.figure(figsize=(10, 5))\n",
    "#g = sns.barplot(data = times, units='ms')\n",
    "g = sns.barplot(data=df, units='ms', capsize=0.1, saturation=0.5, ci=None)\n",
    "# g.set(yscale=\"log\")\n",
    "for idx, i in enumerate(df.mean()):\n",
    "    g.text(idx, i+10, round(i, 1), color='black', ha=\"center\")\n",
    "# plt.title(\"Comparação de desempenho para consultas sobre entrevistas (N=100)\")\n",
    "plt.xlabel(\"Consulta\")\n",
    "plt.ylabel(\"Tempo médio de execução (ms)\")\n",
    "plt.savefig('./perf.png')\n",
    "plt.plot()"
   ]
  },
  {
   "cell_type": "code",
   "execution_count": 123,
   "metadata": {},
   "outputs": [
    {
     "data": {
      "text/plain": [
       "[]"
      ]
     },
     "execution_count": 123,
     "metadata": {},
     "output_type": "execute_result"
    },
    {
     "data": {
      "image/png": "[encoded data removed]",
      "text/plain": [
       "<Figure size 720x360 with 1 Axes>"
      ]
     },
     "metadata": {},
     "output_type": "display_data"
    }
   ],
   "source": [
    "df2 = pd.DataFrame(times[3], columns = api_labels)\n",
    "try:\n",
    "    del df2['Requisição']\n",
    "except:\n",
    "    pass\n",
    "\n",
    "import math\n",
    "sns.set()\n",
    "plt.figure(figsize=(10, 5))\n",
    "#g = sns.barplot(data = times, units='ms')\n",
    "g = sns.barplot(data=df2, units='ms', capsize=0.1, saturation=0.5, ci=None, palette=sns.color_palette(\"Blues\"))\n",
    "# g.set(yscale=\"log\")\n",
    "for idx, i in enumerate(df2.mean()):\n",
    "    g.text(idx, i+50, round(i, 1), color='black', ha=\"center\")\n",
    "# plt.title(\"Comparação de desempenho para consultas sobre entrevistas (N=100)\")\n",
    "plt.xlabel(\"Etapa de execução\")\n",
    "plt.ylabel(\"Tempo médio de execução cumulativo (ms)\")\n",
    "plt.savefig('./perf_api.png')\n",
    "plt.plot()"
   ]
  }
 ],
 "metadata": {
  "kernelspec": {
   "display_name": "Python 3.8.2 64-bit ('icgeo': conda)",
   "language": "python",
   "name": "python38264biticgeoconda709ebc46a9dc48448a5a842c13c04c49"
  },
  "language_info": {
   "codemirror_mode": {
    "name": "ipython",
    "version": 3
   },
   "file_extension": ".py",
   "mimetype": "text/x-python",
   "name": "python",
   "nbconvert_exporter": "python",
   "pygments_lexer": "ipython3",
   "version": "3.7.6"
  }
 },
 "nbformat": 4,
 "nbformat_minor": 4
}
